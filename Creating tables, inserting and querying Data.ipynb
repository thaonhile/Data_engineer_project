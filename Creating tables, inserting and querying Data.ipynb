{
 "cells": [
  {
   "cell_type": "markdown",
   "id": "a69f80f7",
   "metadata": {},
   "source": [
    "1) import any important packages"
   ]
  },
  {
   "cell_type": "code",
   "execution_count": 1,
   "id": "7d5217ba",
   "metadata": {},
   "outputs": [],
   "source": [
    "import pandas as pd\n",
    "import sqlite3\n",
    "conn = sqlite3.connect('instructor.db')\n",
    "cur = conn.cursor()"
   ]
  },
  {
   "cell_type": "markdown",
   "id": "415efa3f",
   "metadata": {},
   "source": [
    "2. Use python to read csv file"
   ]
  },
  {
   "cell_type": "code",
   "execution_count": 5,
   "id": "74d94126",
   "metadata": {},
   "outputs": [],
   "source": [
    "df = pd.read_csv('/Users/justinradik/Data_engineer/ChicagoPublicSchools.csv')"
   ]
  },
  {
   "cell_type": "code",
   "execution_count": 6,
   "id": "82026b1f",
   "metadata": {
    "scrolled": true
   },
   "outputs": [
    {
     "data": {
      "text/html": [
       "<div>\n",
       "<style scoped>\n",
       "    .dataframe tbody tr th:only-of-type {\n",
       "        vertical-align: middle;\n",
       "    }\n",
       "\n",
       "    .dataframe tbody tr th {\n",
       "        vertical-align: top;\n",
       "    }\n",
       "\n",
       "    .dataframe thead th {\n",
       "        text-align: right;\n",
       "    }\n",
       "</style>\n",
       "<table border=\"1\" class=\"dataframe\">\n",
       "  <thead>\n",
       "    <tr style=\"text-align: right;\">\n",
       "      <th></th>\n",
       "      <th>School_ID</th>\n",
       "      <th>NAME_OF_SCHOOL</th>\n",
       "      <th>Elementary, Middle, or High School</th>\n",
       "      <th>Street_Address</th>\n",
       "      <th>City</th>\n",
       "      <th>State</th>\n",
       "      <th>ZIP_Code</th>\n",
       "      <th>Phone_Number</th>\n",
       "      <th>Link</th>\n",
       "      <th>Network_Manager</th>\n",
       "      <th>...</th>\n",
       "      <th>Freshman_on_Track_Rate__</th>\n",
       "      <th>X_COORDINATE</th>\n",
       "      <th>Y_COORDINATE</th>\n",
       "      <th>Latitude</th>\n",
       "      <th>Longitude</th>\n",
       "      <th>COMMUNITY_AREA_NUMBER</th>\n",
       "      <th>COMMUNITY_AREA_NAME</th>\n",
       "      <th>Ward</th>\n",
       "      <th>Police_District</th>\n",
       "      <th>Location</th>\n",
       "    </tr>\n",
       "  </thead>\n",
       "  <tbody>\n",
       "    <tr>\n",
       "      <th>0</th>\n",
       "      <td>610038</td>\n",
       "      <td>Abraham Lincoln Elementary School</td>\n",
       "      <td>ES</td>\n",
       "      <td>615 W Kemper Pl</td>\n",
       "      <td>Chicago</td>\n",
       "      <td>IL</td>\n",
       "      <td>60614</td>\n",
       "      <td>(773) 534-5720</td>\n",
       "      <td>http://schoolreports.cps.edu/SchoolProgressRep...</td>\n",
       "      <td>Fullerton Elementary Network</td>\n",
       "      <td>...</td>\n",
       "      <td>NDA</td>\n",
       "      <td>1171699.458</td>\n",
       "      <td>1915829.428</td>\n",
       "      <td>41.924497</td>\n",
       "      <td>-87.644522</td>\n",
       "      <td>7</td>\n",
       "      <td>LINCOLN PARK</td>\n",
       "      <td>43</td>\n",
       "      <td>18</td>\n",
       "      <td>(41.92449696, -87.64452163)</td>\n",
       "    </tr>\n",
       "    <tr>\n",
       "      <th>1</th>\n",
       "      <td>610281</td>\n",
       "      <td>Adam Clayton Powell Paideia Community Academy ...</td>\n",
       "      <td>ES</td>\n",
       "      <td>7511 S South Shore Dr</td>\n",
       "      <td>Chicago</td>\n",
       "      <td>IL</td>\n",
       "      <td>60649</td>\n",
       "      <td>(773) 535-6650</td>\n",
       "      <td>http://schoolreports.cps.edu/SchoolProgressRep...</td>\n",
       "      <td>Skyway Elementary Network</td>\n",
       "      <td>...</td>\n",
       "      <td>NDA</td>\n",
       "      <td>1196129.985</td>\n",
       "      <td>1856209.466</td>\n",
       "      <td>41.760324</td>\n",
       "      <td>-87.556736</td>\n",
       "      <td>43</td>\n",
       "      <td>SOUTH SHORE</td>\n",
       "      <td>7</td>\n",
       "      <td>4</td>\n",
       "      <td>(41.76032435, -87.55673627)</td>\n",
       "    </tr>\n",
       "    <tr>\n",
       "      <th>2</th>\n",
       "      <td>610185</td>\n",
       "      <td>Adlai E Stevenson Elementary School</td>\n",
       "      <td>ES</td>\n",
       "      <td>8010 S Kostner Ave</td>\n",
       "      <td>Chicago</td>\n",
       "      <td>IL</td>\n",
       "      <td>60652</td>\n",
       "      <td>(773) 535-2280</td>\n",
       "      <td>http://schoolreports.cps.edu/SchoolProgressRep...</td>\n",
       "      <td>Midway Elementary Network</td>\n",
       "      <td>...</td>\n",
       "      <td>NDA</td>\n",
       "      <td>1148427.165</td>\n",
       "      <td>1851012.215</td>\n",
       "      <td>41.747111</td>\n",
       "      <td>-87.731702</td>\n",
       "      <td>70</td>\n",
       "      <td>ASHBURN</td>\n",
       "      <td>13</td>\n",
       "      <td>8</td>\n",
       "      <td>(41.74711093, -87.73170248)</td>\n",
       "    </tr>\n",
       "    <tr>\n",
       "      <th>3</th>\n",
       "      <td>609993</td>\n",
       "      <td>Agustin Lara Elementary Academy</td>\n",
       "      <td>ES</td>\n",
       "      <td>4619 S Wolcott Ave</td>\n",
       "      <td>Chicago</td>\n",
       "      <td>IL</td>\n",
       "      <td>60609</td>\n",
       "      <td>(773) 535-4389</td>\n",
       "      <td>http://schoolreports.cps.edu/SchoolProgressRep...</td>\n",
       "      <td>Pershing Elementary Network</td>\n",
       "      <td>...</td>\n",
       "      <td>NDA</td>\n",
       "      <td>1164504.290</td>\n",
       "      <td>1873959.199</td>\n",
       "      <td>41.809757</td>\n",
       "      <td>-87.672145</td>\n",
       "      <td>61</td>\n",
       "      <td>NEW CITY</td>\n",
       "      <td>20</td>\n",
       "      <td>9</td>\n",
       "      <td>(41.8097569, -87.6721446)</td>\n",
       "    </tr>\n",
       "    <tr>\n",
       "      <th>4</th>\n",
       "      <td>610513</td>\n",
       "      <td>Air Force Academy High School</td>\n",
       "      <td>HS</td>\n",
       "      <td>3630 S Wells St</td>\n",
       "      <td>Chicago</td>\n",
       "      <td>IL</td>\n",
       "      <td>60609</td>\n",
       "      <td>(773) 535-1590</td>\n",
       "      <td>http://schoolreports.cps.edu/SchoolProgressRep...</td>\n",
       "      <td>Southwest Side High School Network</td>\n",
       "      <td>...</td>\n",
       "      <td>91.8</td>\n",
       "      <td>1175177.622</td>\n",
       "      <td>1880745.126</td>\n",
       "      <td>41.828146</td>\n",
       "      <td>-87.632794</td>\n",
       "      <td>34</td>\n",
       "      <td>ARMOUR SQUARE</td>\n",
       "      <td>11</td>\n",
       "      <td>9</td>\n",
       "      <td>(41.82814609, -87.63279369)</td>\n",
       "    </tr>\n",
       "  </tbody>\n",
       "</table>\n",
       "<p>5 rows × 78 columns</p>\n",
       "</div>"
      ],
      "text/plain": [
       "   School_ID                                     NAME_OF_SCHOOL  \\\n",
       "0     610038                  Abraham Lincoln Elementary School   \n",
       "1     610281  Adam Clayton Powell Paideia Community Academy ...   \n",
       "2     610185                Adlai E Stevenson Elementary School   \n",
       "3     609993                    Agustin Lara Elementary Academy   \n",
       "4     610513                      Air Force Academy High School   \n",
       "\n",
       "  Elementary, Middle, or High School         Street_Address     City State  \\\n",
       "0                                 ES        615 W Kemper Pl  Chicago    IL   \n",
       "1                                 ES  7511 S South Shore Dr  Chicago    IL   \n",
       "2                                 ES     8010 S Kostner Ave  Chicago    IL   \n",
       "3                                 ES     4619 S Wolcott Ave  Chicago    IL   \n",
       "4                                 HS        3630 S Wells St  Chicago    IL   \n",
       "\n",
       "   ZIP_Code    Phone_Number  \\\n",
       "0     60614  (773) 534-5720   \n",
       "1     60649  (773) 535-6650   \n",
       "2     60652  (773) 535-2280   \n",
       "3     60609  (773) 535-4389   \n",
       "4     60609  (773) 535-1590   \n",
       "\n",
       "                                                Link  \\\n",
       "0  http://schoolreports.cps.edu/SchoolProgressRep...   \n",
       "1  http://schoolreports.cps.edu/SchoolProgressRep...   \n",
       "2  http://schoolreports.cps.edu/SchoolProgressRep...   \n",
       "3  http://schoolreports.cps.edu/SchoolProgressRep...   \n",
       "4  http://schoolreports.cps.edu/SchoolProgressRep...   \n",
       "\n",
       "                      Network_Manager  ... Freshman_on_Track_Rate__  \\\n",
       "0        Fullerton Elementary Network  ...                      NDA   \n",
       "1           Skyway Elementary Network  ...                      NDA   \n",
       "2           Midway Elementary Network  ...                      NDA   \n",
       "3         Pershing Elementary Network  ...                      NDA   \n",
       "4  Southwest Side High School Network  ...                     91.8   \n",
       "\n",
       "  X_COORDINATE Y_COORDINATE   Latitude  Longitude COMMUNITY_AREA_NUMBER  \\\n",
       "0  1171699.458  1915829.428  41.924497 -87.644522                     7   \n",
       "1  1196129.985  1856209.466  41.760324 -87.556736                    43   \n",
       "2  1148427.165  1851012.215  41.747111 -87.731702                    70   \n",
       "3  1164504.290  1873959.199  41.809757 -87.672145                    61   \n",
       "4  1175177.622  1880745.126  41.828146 -87.632794                    34   \n",
       "\n",
       "  COMMUNITY_AREA_NAME  Ward Police_District                     Location  \n",
       "0        LINCOLN PARK    43              18  (41.92449696, -87.64452163)  \n",
       "1         SOUTH SHORE     7               4  (41.76032435, -87.55673627)  \n",
       "2             ASHBURN    13               8  (41.74711093, -87.73170248)  \n",
       "3            NEW CITY    20               9    (41.8097569, -87.6721446)  \n",
       "4       ARMOUR SQUARE    11               9  (41.82814609, -87.63279369)  \n",
       "\n",
       "[5 rows x 78 columns]"
      ]
     },
     "execution_count": 6,
     "metadata": {},
     "output_type": "execute_result"
    }
   ],
   "source": [
    "df.head()"
   ]
  },
  {
   "cell_type": "markdown",
   "id": "a6946cc4",
   "metadata": {},
   "source": [
    "3. create table instructor"
   ]
  },
  {
   "cell_type": "code",
   "execution_count": 2,
   "id": "7e8d0835",
   "metadata": {},
   "outputs": [
    {
     "data": {
      "text/plain": [
       "<sqlite3.Cursor at 0x7f884a34a240>"
      ]
     },
     "execution_count": 2,
     "metadata": {},
     "output_type": "execute_result"
    }
   ],
   "source": [
    "cur.execute(\"drop table if exists intructor\")\n",
    "cur.execute(\"\"\" create table IF NOT EXISTS INSTRUCTOR(ID INTEGER PRIMARY KEY NOT NULL, FNAME VARCHAR(20), LNAME VARCHAR(20), CITY VARCHAR(20), CCODE CHAR(2));\"\"\")"
   ]
  },
  {
   "cell_type": "markdown",
   "id": "4c508c72",
   "metadata": {},
   "source": [
    "### Insert values into table"
   ]
  },
  {
   "cell_type": "code",
   "execution_count": 3,
   "id": "6ad8030f",
   "metadata": {},
   "outputs": [
    {
     "data": {
      "text/plain": [
       "<sqlite3.Cursor at 0x7f884a34a240>"
      ]
     },
     "execution_count": 3,
     "metadata": {},
     "output_type": "execute_result"
    }
   ],
   "source": [
    "cur.execute('''insert into INSTRUCTOR values (1, 'Rav', 'Ahuja', 'TORONTO', 'CA')''')"
   ]
  },
  {
   "cell_type": "code",
   "execution_count": 4,
   "id": "076a418e",
   "metadata": {},
   "outputs": [
    {
     "data": {
      "text/plain": [
       "<sqlite3.Cursor at 0x7f884a34a240>"
      ]
     },
     "execution_count": 4,
     "metadata": {},
     "output_type": "execute_result"
    }
   ],
   "source": [
    "cur.execute('''insert into INSTRUCTOR values (2, 'Raul', 'Chong', 'Markham', 'CA'), (3, 'Hima', 'Vasudevan', 'Chicago', 'US')''')"
   ]
  },
  {
   "cell_type": "markdown",
   "id": "bffaa811",
   "metadata": {},
   "source": [
    "### Print out values"
   ]
  },
  {
   "cell_type": "code",
   "execution_count": 5,
   "id": "f84d7c55",
   "metadata": {
    "scrolled": true
   },
   "outputs": [
    {
     "name": "stdout",
     "output_type": "stream",
     "text": [
      "(1, 'Rav', 'Ahuja', 'TORONTO', 'CA')\n",
      "(2, 'Raul', 'Chong', 'Markham', 'CA')\n",
      "(3, 'Hima', 'Vasudevan', 'Chicago', 'US')\n"
     ]
    }
   ],
   "source": [
    "statement = 'select * from instructor'\n",
    "exe_state = cur.execute(statement)\n",
    "lines = exe_state.fetchall()\n",
    "for line in lines:\n",
    "    print(line)"
   ]
  },
  {
   "cell_type": "code",
   "execution_count": 37,
   "id": "99578ef6",
   "metadata": {},
   "outputs": [],
   "source": [
    "statement = 'select * from instructor'\n",
    "exe_state = cur.execute(statement)\n",
    "lines = exe_state.fetchmany(2)\n",
    "for line in lines:\n",
    "    print(line)"
   ]
  },
  {
   "cell_type": "markdown",
   "id": "9791510c",
   "metadata": {},
   "source": [
    "### Update data"
   ]
  },
  {
   "cell_type": "code",
   "execution_count": 6,
   "id": "351cdda9",
   "metadata": {},
   "outputs": [
    {
     "data": {
      "text/plain": [
       "<sqlite3.Cursor at 0x7f884a34a240>"
      ]
     },
     "execution_count": 6,
     "metadata": {},
     "output_type": "execute_result"
    }
   ],
   "source": [
    "statement = 'update instructor set CITY=\"MOOSETOWN\"where FNAME=\"Rav\"'\n",
    "cur.execute(statement)"
   ]
  },
  {
   "cell_type": "markdown",
   "id": "c8f288a3",
   "metadata": {},
   "source": [
    "### RETRIEVE DATA USING PANDAS PACKAGE"
   ]
  },
  {
   "cell_type": "code",
   "execution_count": 7,
   "id": "64de1e4d",
   "metadata": {},
   "outputs": [
    {
     "data": {
      "text/html": [
       "<div>\n",
       "<style scoped>\n",
       "    .dataframe tbody tr th:only-of-type {\n",
       "        vertical-align: middle;\n",
       "    }\n",
       "\n",
       "    .dataframe tbody tr th {\n",
       "        vertical-align: top;\n",
       "    }\n",
       "\n",
       "    .dataframe thead th {\n",
       "        text-align: right;\n",
       "    }\n",
       "</style>\n",
       "<table border=\"1\" class=\"dataframe\">\n",
       "  <thead>\n",
       "    <tr style=\"text-align: right;\">\n",
       "      <th></th>\n",
       "      <th>ID</th>\n",
       "      <th>FNAME</th>\n",
       "      <th>LNAME</th>\n",
       "      <th>CITY</th>\n",
       "      <th>CCODE</th>\n",
       "    </tr>\n",
       "  </thead>\n",
       "  <tbody>\n",
       "    <tr>\n",
       "      <th>0</th>\n",
       "      <td>1</td>\n",
       "      <td>Rav</td>\n",
       "      <td>Ahuja</td>\n",
       "      <td>MOOSETOWN</td>\n",
       "      <td>CA</td>\n",
       "    </tr>\n",
       "    <tr>\n",
       "      <th>1</th>\n",
       "      <td>2</td>\n",
       "      <td>Raul</td>\n",
       "      <td>Chong</td>\n",
       "      <td>Markham</td>\n",
       "      <td>CA</td>\n",
       "    </tr>\n",
       "    <tr>\n",
       "      <th>2</th>\n",
       "      <td>3</td>\n",
       "      <td>Hima</td>\n",
       "      <td>Vasudevan</td>\n",
       "      <td>Chicago</td>\n",
       "      <td>US</td>\n",
       "    </tr>\n",
       "  </tbody>\n",
       "</table>\n",
       "</div>"
      ],
      "text/plain": [
       "   ID FNAME      LNAME       CITY CCODE\n",
       "0   1   Rav      Ahuja  MOOSETOWN    CA\n",
       "1   2  Raul      Chong    Markham    CA\n",
       "2   3  Hima  Vasudevan    Chicago    US"
      ]
     },
     "execution_count": 7,
     "metadata": {},
     "output_type": "execute_result"
    }
   ],
   "source": [
    "import pandas as pd\n",
    "#retrieve the query results into a pandas dataframe\n",
    "df1 = pd.read_sql_query(\"select * from instructor;\", conn)\n",
    "\n",
    "#print the dataframe\n",
    "df1"
   ]
  },
  {
   "cell_type": "code",
   "execution_count": null,
   "id": "cac483c9",
   "metadata": {},
   "outputs": [],
   "source": []
  }
 ],
 "metadata": {
  "kernelspec": {
   "display_name": "Python 3 (ipykernel)",
   "language": "python",
   "name": "python3"
  },
  "language_info": {
   "codemirror_mode": {
    "name": "ipython",
    "version": 3
   },
   "file_extension": ".py",
   "mimetype": "text/x-python",
   "name": "python",
   "nbconvert_exporter": "python",
   "pygments_lexer": "ipython3",
   "version": "3.10.9"
  }
 },
 "nbformat": 4,
 "nbformat_minor": 5
}
